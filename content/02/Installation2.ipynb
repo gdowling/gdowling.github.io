{
 "cells": [
  {
   "cell_type": "markdown",
   "metadata": {},
   "source": [
    "<a id=\"installation\"></a>\n",
    "# Installation\n",
    "\n",
    "The easiest way to install python is to use [Anaconda](https://www.anaconda.com/distribution/). Download the 64-bit version of Python 3.7. \n",
    "\n",
    "__Anaconda will come with four main components:__\n",
    "\n",
    "1.\t__Python 3.7:__ this allows you to run Python\n",
    "2.\t__Spyder:__ An Integrated Development Environment (IDE) similar to R-Studio. This is where you will work on most of your projects.\n",
    "3.\t__Jupyter Notebook:__ Jupyter Notebook is a web-based interactive computational environment where you can write Python code. Popular because you can include easy to read text around you code to explain your process. Similar to R-Markdown.\n",
    "4.\t__Anaconda Prompt:__ This is were you will go to download various Python packages. Similar to how you download packages in R (Will cover more on this later)."
   ]
  },
  {
   "cell_type": "code",
   "execution_count": null,
   "metadata": {},
   "outputs": [],
   "source": []
  }
 ],
 "metadata": {
  "kernelspec": {
   "display_name": "Python 3",
   "language": "python",
   "name": "python3"
  },
  "language_info": {
   "codemirror_mode": {
    "name": "ipython",
    "version": 3
   },
   "file_extension": ".py",
   "mimetype": "text/x-python",
   "name": "python",
   "nbconvert_exporter": "python",
   "pygments_lexer": "ipython3",
   "version": "3.7.4"
  }
 },
 "nbformat": 4,
 "nbformat_minor": 4
}
