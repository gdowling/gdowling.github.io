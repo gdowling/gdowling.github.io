{
 "cells": [
  {
   "cell_type": "markdown",
   "metadata": {},
   "source": [
    "<a id=\"overview\"></a>\n",
    "# Overview\n",
    "Analytics is an art reliant on free and creative thought mathematically grounded. This guide will show you how transfer your knowledge in R over to Python. Even if you do not have experience using R you will still be able to walk away with a fundamental working knowledge in Python. The code in this document will show how to translate each R function into Python as well as show Python best practices. After we cover the basics, I’ve include a ML project that shows steps from start to finish in both R and Python code.\n",
    "\n",
    "Everything that I refer to can be assumed to be in respect to Python unless stated otherwise."
   ]
  }
 ],
 "metadata": {
  "kernelspec": {
   "display_name": "Python 3",
   "language": "python",
   "name": "python3"
  },
  "language_info": {
   "codemirror_mode": {
    "name": "ipython",
    "version": 3
   },
   "file_extension": ".py",
   "mimetype": "text/x-python",
   "name": "python",
   "nbconvert_exporter": "python",
   "pygments_lexer": "ipython3",
   "version": "3.7.4"
  }
 },
 "nbformat": 4,
 "nbformat_minor": 4
}
