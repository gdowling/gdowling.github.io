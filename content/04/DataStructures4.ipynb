{
 "cells": [
  {
   "cell_type": "markdown",
   "metadata": {},
   "source": [
    "<a id=\"data_structures\"></a>\n",
    "## Data Structures\n",
    "Data structures are what they sound like, they determine how your data organized and stored.\n",
    "- __Lists:__ It is the same in Python as it is in R. It can store values of multiple variable types (i.e. floats, strings, booleans, etc.)\n",
    "- __Tuples:__ These are exclusive to Python. The closest thing in R would be a vector, but unlike a vector, tuples are immutable (i.e. they can’t be changed).\n",
    "- __Dictionary:__ Found in both Python and R. It is a two-dimensional structure with a _key : value pair_. In simple terms the key would be a column and the value pair would be the column value.\n",
    "- __Dataframe:__ The dataframe is a two-dimensional with heterogeneous data (i.e. columns of any data type). Unlike R, Python does not come with a dataframe function out of the box so it must be downloaded using the ```pandas``` package (We will cover more on this later). The functionally of the dataframe is the same across both languages. \n",
    "- __Array:__ This is unique to Python and is similar to a list in R. It can be multidimensional and can contain data of the same or multiple classes.\n",
    "- __Matrix:__ Are found in both Python and R. A Matrix is similar to a dataframe; however, a matrix is homogeneous and a dataframe is not. A matrix, can reduce a memory usage.\n"
   ]
  }
 ],
 "metadata": {
  "kernelspec": {
   "display_name": "Python 3",
   "language": "python",
   "name": "python3"
  },
  "language_info": {
   "codemirror_mode": {
    "name": "ipython",
    "version": 3
   },
   "file_extension": ".py",
   "mimetype": "text/x-python",
   "name": "python",
   "nbconvert_exporter": "python",
   "pygments_lexer": "ipython3",
   "version": "3.7.4"
  }
 },
 "nbformat": 4,
 "nbformat_minor": 4
}
