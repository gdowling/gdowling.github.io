{
 "cells": [
  {
   "cell_type": "markdown",
   "metadata": {},
   "source": [
    "<a id=\"pandas_create_dataframes\"></a>\n",
    "## Working with DataFrames in Pandas"
   ]
  },
  {
   "cell_type": "markdown",
   "metadata": {},
   "source": [
    "Now that we know how to import dataframes we will now cover how to work with them. You can think of a dataframe as an excel spreadsheet. Each row of a datframe corresponds to measurements or values of an instance, while each column is a vector containing data for a specific feature. This means that a dataframe's rows do not need to contain the same type data type (i.e. they can be a float, integer, string, etc). This will be the most common data structure that you will work with."
   ]
  },
  {
   "cell_type": "markdown",
   "metadata": {},
   "source": [
    "##### Manually Creating DataFrame\n",
    "As opposed to reading in a file or connecting to a database, you can also create your own dataframe using [```DataFrame```](https://pandas.pydata.org/pandas-docs/stable/reference/api/pandas.DataFrame.html)."
   ]
  },
  {
   "cell_type": "code",
   "execution_count": 10,
   "metadata": {},
   "outputs": [
    {
     "data": {
      "text/html": [
       "<div>\n",
       "<style scoped>\n",
       "    .dataframe tbody tr th:only-of-type {\n",
       "        vertical-align: middle;\n",
       "    }\n",
       "\n",
       "    .dataframe tbody tr th {\n",
       "        vertical-align: top;\n",
       "    }\n",
       "\n",
       "    .dataframe thead th {\n",
       "        text-align: right;\n",
       "    }\n",
       "</style>\n",
       "<table border=\"1\" class=\"dataframe\">\n",
       "  <thead>\n",
       "    <tr style=\"text-align: right;\">\n",
       "      <th></th>\n",
       "      <th>Name</th>\n",
       "      <th>Age</th>\n",
       "    </tr>\n",
       "  </thead>\n",
       "  <tbody>\n",
       "    <tr>\n",
       "      <td>0</td>\n",
       "      <td>Jeff</td>\n",
       "      <td>15</td>\n",
       "    </tr>\n",
       "    <tr>\n",
       "      <td>1</td>\n",
       "      <td>Bill</td>\n",
       "      <td>88</td>\n",
       "    </tr>\n",
       "    <tr>\n",
       "      <td>2</td>\n",
       "      <td>Nancy</td>\n",
       "      <td>41</td>\n",
       "    </tr>\n",
       "    <tr>\n",
       "      <td>3</td>\n",
       "      <td>Greg</td>\n",
       "      <td>31</td>\n",
       "    </tr>\n",
       "    <tr>\n",
       "      <td>4</td>\n",
       "      <td>Jill</td>\n",
       "      <td>78</td>\n",
       "    </tr>\n",
       "    <tr>\n",
       "      <td>5</td>\n",
       "      <td>Anne</td>\n",
       "      <td>9</td>\n",
       "    </tr>\n",
       "    <tr>\n",
       "      <td>6</td>\n",
       "      <td>Doug</td>\n",
       "      <td>6</td>\n",
       "    </tr>\n",
       "  </tbody>\n",
       "</table>\n",
       "</div>"
      ],
      "text/plain": [
       "    Name  Age\n",
       "0   Jeff   15\n",
       "1   Bill   88\n",
       "2  Nancy   41\n",
       "3   Greg   31\n",
       "4   Jill   78\n",
       "5   Anne    9\n",
       "6   Doug    6"
      ]
     },
     "execution_count": 10,
     "metadata": {},
     "output_type": "execute_result"
    }
   ],
   "source": [
    "import numpy as np\n",
    "import pandas as pd\n",
    "\n",
    "AgeData = pd.DataFrame({'Name': ['Jeff','Bill','Nancy','Greg','Jill','Anne','Doug'], \n",
    "              'Age': [15,88,41,31,78,9,6]}) #Creating dataframe\n",
    "AgeData"
   ]
  },
  {
   "cell_type": "markdown",
   "metadata": {},
   "source": [
    "<a id=\"pandas_examining_data\"></a>\n",
    "## Examining Data \n",
    "\n",
    "Once you have your dataframe you will want to inspect it. Below are a few ways of getting quick information from your data frame. \n",
    "- [```df.head()```](https://pandas.pydata.org/pandas-docs/stable/reference/api/pandas.DataFrame.head.html) returns the first five rows\n",
    "- [```df.tail()```](https://pandas.pydata.org/pandas-docs/stable/reference/api/pandas.DataFrame.tail.html#pandas.DataFrame.tail) returns the last five rows\n",
    "- [```df.info()```](https://pandas.pydata.org/pandas-docs/stable/reference/api/pandas.DataFrame.info.html) returns information on your dataframe such as columns, data types, RangeIndex, and memory usage\n",
    "- [```df.columns```](https://pandas.pydata.org/pandas-docs/stable/reference/api/pandas.DataFrame.columns.html) returns the columns in the dataframe.\n",
    "- You can also run various math on your dataframe such as [```df.mean()```](https://pandas.pydata.org/pandas-docs/stable/reference/api/pandas.DataFrame.mean.html),[```df.max()```](https://pandas.pydata.org/pandas-docs/stable/reference/api/pandas.DataFrame.max.html),[```df.min```](https://pandas.pydata.org/pandas-docs/stable/reference/api/pandas.Series.min.html#pandas.Series.min),[```df.median```](https://pandas.pydata.org/pandas-docs/stable/reference/api/pandas.DataFrame.median.html),[```df.std()```](https://pandas.pydata.org/pandas-docs/stable/reference/api/pandas.DataFrame.std.html),[```df.corr()```](https://pandas.pydata.org/pandas-docs/stable/reference/api/pandas.DataFrame.corr.html), and many more. These methods will return a value for each of your columns.\n",
    "\n",
    "    "
   ]
  },
  {
   "cell_type": "markdown",
   "metadata": {},
   "source": [
    "##### Creating Random DataFrame for Examples"
   ]
  },
  {
   "cell_type": "code",
   "execution_count": 21,
   "metadata": {},
   "outputs": [],
   "source": [
    "import numpy as np\n",
    "import pandas as pd\n",
    "\n",
    "df = pd.DataFrame(np.random.randint(0,5000,size=(100, 4)), columns=list('ABCD')) # 100x4 dataframe"
   ]
  },
  {
   "cell_type": "markdown",
   "metadata": {},
   "source": [
    "Use the above methods you just learned to explore the example dataframe in the workspace below."
   ]
  },
  {
   "cell_type": "code",
   "execution_count": 32,
   "metadata": {},
   "outputs": [
    {
     "data": {
      "text/plain": [
       "A    2332.0\n",
       "B    2421.0\n",
       "C    2266.5\n",
       "D    2166.0\n",
       "dtype: float64"
      ]
     },
     "execution_count": 32,
     "metadata": {},
     "output_type": "execute_result"
    }
   ],
   "source": [
    "df.median()"
   ]
  },
  {
   "cell_type": "markdown",
   "metadata": {},
   "source": [
    "<a id=\"pandas_selecting_data\"></a>\n",
    "## Selecting Data\n",
    "\n",
    "Pandas dataframes makes it easy to slice and dice our data in any way would would like. \n",
    "- Selecting one column is as easy a putting the column you want in bracket after the dataframe name ```df['Col1']```.\n",
    "- To select more than one column put the columns you want into a list then place that list into brackets after the dataframe name ```df[['Col1','Col2','Col3']]```.\n",
    "- You can also select data based on its position [```iloc```](https://pandas.pydata.org/pandas-docs/stable/reference/api/pandas.DataFrame.iloc.html) or by its label using [```loc```](https://pandas.pydata.org/pandas-docs/stable/reference/api/pandas.DataFrame.loc.html#pandas.DataFrame.loc).\n",
    "    - ```df.loc['USA']``` will print out observations for USA\n",
    "    - ```df.loc[['USA','UK']]``` will print out observations for USA and UK\n",
    "    - ```df.iloc[4]``` will print out the observation in the 4th index \n",
    "    - ```df.iloc[[4,10]]``` will print out the observation in the 4th and 10th index "
   ]
  },
  {
   "cell_type": "markdown",
   "metadata": {},
   "source": [
    "<a id=\"pandas_data_cleaning\"></a>\n",
    "## Data Cleaning \n",
    "\n",
    "Pandas also does a great job when it come to cleaning your dataframe.\n",
    "<a id=\"pandas_data_cleaning_missing_values\"></a>\n",
    "- __Missing Values:__\n",
    "    - One of the first steps you want to do when import a dataframe is check for null values. This can be done by calling   ```df.isnull()```. This will return a Boolean array of your dataframe where True equals a null value. If you want the total of null values by column simply place the ```sum()``` method at the end of the statement [```df.isnull().sum()```](https://pandas.pydata.org/pandas-docs/version/0.23.4/generated/pandas.isnull.html) (You can perform math on Booleans in Python, True will be treated as ones and False as zeros).\n",
    "    - You can drop all missing values using [```df.drop_na()```](https://pandas.pydata.org/pandas-docs/stable/reference/api/pandas.DataFrame.dropna.html), the arguement ```axis=0``` will drop the rows and ```axis=1``` the columns.\n",
    "    - You can impute the missing values using [```df.fillna(x)```](https://pandas.pydata.org/pandas-docs/stable/reference/api/pandas.DataFrame.fillna.html) where ```x``` can be any value. Here you would be using the mean to replace missing values in ```Col1``` ```df['Col1'].fillna(df['Col1'].mean())```. \n",
    "<a id=\"pandas_data_cleaning_replacing_values\"></a>    \n",
    "- __Replacing Values:__\n",
    "    - Sometimes you want to replace a value in dataframe. To do this in pandas you use the [```replace```](https://pandas.pydata.org/pandas-docs/stable/reference/api/pandas.DataFrame.replace.html) method. ```df.replace('Bos','Boston')``` would replace Bos with Boston. This also works with multiple values just use lists, ```df.replace(['Bos','NYC'],['Boston','New York City'])```.\n",
    "<a id=\"pandas_data_cleaning_renaming_lists\"></a>    \n",
    "- __Renaming Lists:__\n",
    "   - Data will often come without, incorrect, or long column names. You can rename columns by feeding a new list to [```df.columns```](https://pandas.pydata.org/pandas-docs/stable/reference/api/pandas.DataFrame.columns.html), but this will require you to have a list of the same length as the current column list. The best way to rename columns is to use the [```rename```](https://pandas.pydata.org/pandas-docs/stable/reference/api/pandas.DataFrame.rename.html) method.```rename``` requires a dictionay of the old column name as the key and new column name as the value pair ' ```df.rename({'Col1' : 'Column_1', 'Col2' : 'Column_2'})```."
   ]
  },
  {
   "cell_type": "markdown",
   "metadata": {},
   "source": [
    "<a id=\"pandas_joining_data\"></a>\n",
    "## Joining Data\n",
    "\n",
    "There are three main methods around joining data in pandas: [```append```](https://pandas.pydata.org/pandas-docs/stable/reference/api/pandas.DataFrame.append.html), [```concat```](https://pandas.pydata.org/pandas-docs/stable/reference/api/pandas.concat.html), and [```join```](https://pandas.pydata.org/pandas-docs/stable/reference/api/pandas.DataFrame.join.html).\n",
    "   - ```df1.append(df2)``` will stack the two dataframes df1 on top of df2. Make sure the columns are identical.\n",
    "   - ```df1.concat(df2,axis=1)``` this will add the columns of df2 to the end of df1. Make sure the rows are identical.\n",
    "   - ```df1.join(df2,on = ['Col1'],how = 'inner')``` This joins the columns in df1 with the columns in df2 were ```Col1``` have matching values. You can also do left, right, outer, and inner joins. You can also join on multiple values."
   ]
  }
 ],
 "metadata": {
  "kernelspec": {
   "display_name": "Python 3",
   "language": "python",
   "name": "python3"
  },
  "language_info": {
   "codemirror_mode": {
    "name": "ipython",
    "version": 3
   },
   "file_extension": ".py",
   "mimetype": "text/x-python",
   "name": "python",
   "nbconvert_exporter": "python",
   "pygments_lexer": "ipython3",
   "version": "3.7.4"
  }
 },
 "nbformat": 4,
 "nbformat_minor": 4
}
