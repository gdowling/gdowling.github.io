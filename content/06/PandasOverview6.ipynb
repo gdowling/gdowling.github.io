{
 "cells": [
  {
   "cell_type": "markdown",
   "metadata": {},
   "source": [
    "<a id=\"pandas\"></a>\n",
    "# [Pandas](https://pandas.pydata.org/pandas-docs/stable/index.html)\n",
    "\n",
    "Pandas is an easy to use data structures and data analysis tool. You will be using pandas to import data, create dataframes, reshape, structure, and wrangle data as well as much more. Below we will go through most of the basic functionality of pandas. Each function is linked to its repective documentation.\n",
    "\n",
    "The common way to import pandas is: ```import pandas as pd```. Note you will have to do this everytime you start a new notebook."
   ]
  },
  {
   "cell_type": "markdown",
   "metadata": {},
   "source": [
    "### __Topics covered:__\n",
    "\n",
    "1. Importing Data\n",
    "2. DataFrames\n",
    "3. Viewing Data\n",
    "4. Selecting Data\n",
    "5. Cleaning Data\n",
    "6. Joining Data"
   ]
  }
 ],
 "metadata": {
  "kernelspec": {
   "display_name": "Python 3",
   "language": "python",
   "name": "python3"
  },
  "language_info": {
   "codemirror_mode": {
    "name": "ipython",
    "version": 3
   },
   "file_extension": ".py",
   "mimetype": "text/x-python",
   "name": "python",
   "nbconvert_exporter": "python",
   "pygments_lexer": "ipython3",
   "version": "3.7.4"
  }
 },
 "nbformat": 4,
 "nbformat_minor": 4
}
