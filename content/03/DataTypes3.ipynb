{
 "cells": [
  {
   "cell_type": "markdown",
   "metadata": {},
   "source": [
    "<a id=\"data_types\"></a>\n",
    "# Data Types\n",
    "\n",
    "\n",
    "Both R and Python assign data types when import your data sets. Based on the data type your computer will allot a certain amount of memory (RAM). This is import because using the wrong/inefficient data type will lead lesser performance or running out of memory space. Python offers a wider array of data \n",
    "\n",
    "__Numeric Values:__ Comes in three main types in Python compared to R’s two. However, Python allows for one to easily adjust to size in which you store Integers and Floats.\n",
    "\n",
    "* \t__Integer:__ Same in both Python and R as is reserved for whole numbers (i.e. 2, 23, 888)\n",
    "*\t__Float:__ Used in Python to store decimal values R equivalent is numeric (i.e. 2.22, 55.8718). Python allows for on to specify how many bits you would like to assign to a float. For example, if you select to save a variable as float16 vs a float32 you will use half the memory by cutting down the bit size from 32 to 16, but will not be able to store larger numbers. Best to let the complier decide what float size to use, but keep in mind as an option if you are experiences memory issues.\n",
    "*\t __Complex:__ Numbers with real and imaginary parts (i.e. 1+4i). Same in Python as it is in R. Rarely occurs.\n",
    "\n",
    "__Booleans:__ Stores values as either True or False. This is the same between Python and R, except for one small important difference, in Python Booleans are stored as True and False, whereas in R they are stored in all-caps as TRUE and FALSE.\n",
    "\n",
    "__Strings:__ Stores text (i.e. “Stores text”). It is the same as R’s character data type."
   ]
  },
  {
   "cell_type": "code",
   "execution_count": null,
   "metadata": {},
   "outputs": [],
   "source": []
  }
 ],
 "metadata": {
  "kernelspec": {
   "display_name": "Python 3",
   "language": "python",
   "name": "python3"
  },
  "language_info": {
   "codemirror_mode": {
    "name": "ipython",
    "version": 3
   },
   "file_extension": ".py",
   "mimetype": "text/x-python",
   "name": "python",
   "nbconvert_exporter": "python",
   "pygments_lexer": "ipython3",
   "version": "3.7.4"
  }
 },
 "nbformat": 4,
 "nbformat_minor": 4
}
