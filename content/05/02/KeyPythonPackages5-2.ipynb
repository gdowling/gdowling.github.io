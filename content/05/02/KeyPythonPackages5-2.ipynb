{
 "cells": [
  {
   "cell_type": "markdown",
   "metadata": {},
   "source": [
    "<a id=\"key_python_packages\"></a>\n",
    "# Key Python Packages\n",
    "\n",
    "Now that you know how to import packages in Python we will go over the key python packages and there applications.\n",
    "\n",
    "If you are fimilar with R, below you will find the most used packages and their R equivalents. If you are not fimilar with R, no problem, we will go over each package as if you do not have any coding base. Note there are many more Python packages that you will use, but these packages will take you a long way as you start in Python. "
   ]
  },
  {
   "cell_type": "markdown",
   "metadata": {},
   "source": [
    "\n",
    "<h3><center>Top Python Packages </center></h3>\n",
    "\n",
    "|      Python      |                    R                   |\n",
    "|:----------------:|:--------------------------------------:|\n",
    "| pandas, numpy           | reshape2, plyr,<br> dplyr, tidyr       |\n",
    "| seaborn,plotly   | ggplot2                                |\n",
    "| Jupyter Notebook | Knitr                                  |\n",
    "| pandasql         | sqldf                                  |\n",
    "| sklearn          | caret, glm, knn,<br>randomForest,e1071 |\n",
    "| scipy            | stats                                  |\n"
   ]
  }
 ],
 "metadata": {
  "kernelspec": {
   "display_name": "Python 3",
   "language": "python",
   "name": "python3"
  },
  "language_info": {
   "codemirror_mode": {
    "name": "ipython",
    "version": 3
   },
   "file_extension": ".py",
   "mimetype": "text/x-python",
   "name": "python",
   "nbconvert_exporter": "python",
   "pygments_lexer": "ipython3",
   "version": "3.7.4"
  }
 },
 "nbformat": 4,
 "nbformat_minor": 4
}
