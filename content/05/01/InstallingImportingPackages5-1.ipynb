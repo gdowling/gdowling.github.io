{
 "cells": [
  {
   "cell_type": "markdown",
   "metadata": {},
   "source": [
    "<a id=\"installing_importing\"></a>\n",
    "# Installing & Import Python Packages \n",
    "\n",
    "In order to use a package you must first install it to you local drive. In R you would do this by using ```install.packages```. In Python you download packages either in your Command Prompt or Anaconda Prompt using ```pip install``` or ```conda install```. We will use Anaconda Prompt and ```conda install```. If you wanted to install the ML package ```sklearn``` you would open Anaconda Prompt and type ```conda install sklearn```. Now you can use the ```sklearn``` package and just like R once you have a packaged install you do not need to reinstall it unless you would like to update it to a more recent version.\n"
   ]
  },
  {
   "cell_type": "markdown",
   "metadata": {},
   "source": [
    "Similar to R’s ```library``` you will load in packages in Python using ```import```, but unlike R, Python allows you to import certain modules from a package. You can think of Packages like directories on your computer (My Documents, Pictures, Videos, etc.) and Modules like files in those directories with similar characteristics (Cat photos in your Picture Directory). By just importing modules instead of the entire package your code will be more explicit and you will avoid importing modules that you are not using.\n",
    "\n",
    "Below are a few examples of importing modules and packages:"
   ]
  },
  {
   "cell_type": "code",
   "execution_count": 1,
   "metadata": {},
   "outputs": [],
   "source": [
    "#Importing the os module in Python\n",
    "import os\n",
    "\n",
    "#Importing the pandas package with the alias pd\n",
    "import pandas as pd\n",
    "\n",
    "#Importing the Linear Regression function from the linear_model module in the sklearn package\n",
    "from sklearn.linear_model import LinearRegression"
   ]
  }
 ],
 "metadata": {
  "kernelspec": {
   "display_name": "Python 3",
   "language": "python",
   "name": "python3"
  },
  "language_info": {
   "codemirror_mode": {
    "name": "ipython",
    "version": 3
   },
   "file_extension": ".py",
   "mimetype": "text/x-python",
   "name": "python",
   "nbconvert_exporter": "python",
   "pygments_lexer": "ipython3",
   "version": "3.7.4"
  }
 },
 "nbformat": 4,
 "nbformat_minor": 4
}
