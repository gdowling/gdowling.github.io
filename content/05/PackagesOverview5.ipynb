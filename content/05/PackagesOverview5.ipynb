{
 "cells": [
  {
   "cell_type": "markdown",
   "metadata": {},
   "source": [
    "#  Modules & Packages in Python"
   ]
  },
  {
   "cell_type": "markdown",
   "metadata": {},
   "source": [
    "##### Overview \n",
    "Just like other programs like R, Python has many packages that you can download that preform a wide array of tasks (i.e. Importing Data, Machine Learning, Statistics, etc). Packages makes programming less daunting as much of the code you will use comes from these packages and will be optimized for run time and ease of use. "
   ]
  },
  {
   "cell_type": "markdown",
   "metadata": {},
   "source": [
    "##### Modules\n",
    "Let say that you wrote a real cool peice of code in the Python console, but quit Python. The functions and varaibles you made are now all lost forever, you can't easly save in the Python cosole. You can get around this by saving your scripts using a text edidor like Spyder or Jupyter Lab, but this as your script gets longet you'll want to start saving the functions you are creating. You may also want to use a handy function that you’ve written in other scripts without copying its definition into each one.\n",
    "\n",
    "To support this, Python has a way to put definitions/functions in a file and use them in a script. Such a file is called a _module_; definitions from a module can be imported into other modules or into the main module. _In short, a module is a file containing Python definitions and statements._ \n"
   ]
  },
  {
   "cell_type": "markdown",
   "metadata": {},
   "source": [
    "##### Packages\n",
    "\n",
    "Now that we under modules we can move into packages which is a collection of Python modules. While a module is a single Python file, a package is a directory of Python modules containing an additional ```__init__.py``` file. It’s important to keep in mind that all packages are modules, but not all modules are packages.\n",
    "\n",
    "Don't worry if this still does not make sense you probably won't be creating your own modules or packages at first, you will mainly be using preconfigured ones. Then main thing you will need to understand is that packages enable you to use pre-existing functions to perform various tasks. "
   ]
  }
 ],
 "metadata": {
  "kernelspec": {
   "display_name": "Python 3",
   "language": "python",
   "name": "python3"
  },
  "language_info": {
   "codemirror_mode": {
    "name": "ipython",
    "version": 3
   },
   "file_extension": ".py",
   "mimetype": "text/x-python",
   "name": "python",
   "nbconvert_exporter": "python",
   "pygments_lexer": "ipython3",
   "version": "3.7.4"
  }
 },
 "nbformat": 4,
 "nbformat_minor": 4
}
