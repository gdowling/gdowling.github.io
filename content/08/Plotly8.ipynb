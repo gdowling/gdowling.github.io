{
 "cells": [
  {
   "cell_type": "markdown",
   "metadata": {},
   "source": [
    "<a id=\"plotly\"></a>\n",
    "# [Plotly](https://plot.ly/python/getting-started/#overview)\n",
    "```Plotly``` in my opinion the best option in python for making visualizations. Other options include ```matplotlib``` or ```seaborn```, but they lack the image quality, interactivity, and versatility that ```plotly``` offers. \n",
    "\n",
    "Below are a few more benefits noted by the developers:\n",
    "\n",
    "- Plotly is an interactive, open-source plotting library that supports over _40 unique chart types_ covering a wide range of statistical, financial, geographic, scientific, and 3-dimensional use-cases.\n",
    "\n",
    "- Built on top of the Plotly JavaScript library, plotly enables Python users to create beautiful interactive web-based visualizations that can be displayed in Jupyter notebooks, saved to standalone HTML files, or served as part of pure Python-built web applications using Dash.\n",
    "\n",
    "- Thanks to deep integration with the orca image export utility, plotly also provides great support for non-web contexts including desktop editors and static document publishing (exporting notebooks to PDF with high-quality vector images for use in programs such as PowerPoint)."
   ]
  }
 ],
 "metadata": {
  "kernelspec": {
   "display_name": "Python 3",
   "language": "python",
   "name": "python3"
  },
  "language_info": {
   "codemirror_mode": {
    "name": "ipython",
    "version": 3
   },
   "file_extension": ".py",
   "mimetype": "text/x-python",
   "name": "python",
   "nbconvert_exporter": "python",
   "pygments_lexer": "ipython3",
   "version": "3.7.4"
  }
 },
 "nbformat": 4,
 "nbformat_minor": 4
}
