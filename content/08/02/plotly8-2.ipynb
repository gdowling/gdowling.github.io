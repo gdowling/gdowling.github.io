{
 "cells": [
  {
   "cell_type": "markdown",
   "metadata": {},
   "source": [
    "<a id=\"plotly_examples\"></a>\n",
    "## Plotly Examples\n",
    "Below we will walk through how to make the main plotly visualizations. Below are the links to the data sources that I used so you follow along."
   ]
  },
  {
   "cell_type": "markdown",
   "metadata": {},
   "source": [
    "- [APPL Data](https://raw.githubusercontent.com/plotly/datasets/master/2014_apple_stock.csv)\n",
    "- [Stock Data](https://raw.githubusercontent.com/plotly/datasets/master/stockdata2.csv)\n",
    "- [Cars MPG](https://raw.githubusercontent.com/plotly/datasets/master/mpg_2017.txt)\n",
    "- [GDPs](https://raw.githubusercontent.com/plotly/datasets/master/bubble_chart_tutorial.csv)\n",
    "- [Tips](https://raw.githubusercontent.com/plotly/datasets/master/tips.csv)"
   ]
  },
  {
   "cell_type": "code",
   "execution_count": null,
   "metadata": {},
   "outputs": [],
   "source": []
  }
 ],
 "metadata": {
  "kernelspec": {
   "display_name": "Python 3",
   "language": "python",
   "name": "python3"
  },
  "language_info": {
   "codemirror_mode": {
    "name": "ipython",
    "version": 3
   },
   "file_extension": ".py",
   "mimetype": "text/x-python",
   "name": "python",
   "nbconvert_exporter": "python",
   "pygments_lexer": "ipython3",
   "version": "3.7.4"
  }
 },
 "nbformat": 4,
 "nbformat_minor": 2
}
