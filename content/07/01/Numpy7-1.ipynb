{
 "cells": [
  {
   "cell_type": "markdown",
   "metadata": {},
   "source": [
    "<a id=\"numpy_array_basics\"></a>\n",
    "### Array Basics \n",
    "\n",
    "NumPy works with Python objects called multi-dimensional arrays. Arrays are collections of values that can have one or more dimensions. NumPy array data structure is also called ndarray, short for n-dimensional array. An array with one dimension is called a vector and an array with two dimensions is called a matrix. Datasets are usually built as matrices and it is much easier to open those with NumPy instead of working with list of lists.\n",
    "\n",
    "Converting list to NumPy arrays is done by running [```array```](https://docs.scipy.org/doc/numpy/reference/generated/numpy.array.html?highlight=array#numpy.array):"
   ]
  },
  {
   "cell_type": "code",
   "execution_count": 2,
   "metadata": {},
   "outputs": [
    {
     "data": {
      "text/plain": [
       "array([[1, 2, 3, 4],\n",
       "       [5, 6, 7, 8]])"
      ]
     },
     "execution_count": 2,
     "metadata": {},
     "output_type": "execute_result"
    }
   ],
   "source": [
    "import numpy as np\n",
    "list_of_list = [[1,2,3,4],[5,6,7,8]]\n",
    "np.array(list_of_list)"
   ]
  },
  {
   "cell_type": "markdown",
   "metadata": {},
   "source": [
    "To convert a NumPy array back to a list you can use [```tolist```](https://docs.scipy.org/doc/numpy/reference/generated/numpy.char.chararray.tolist.html?highlight=tolist#numpy.char.chararray.tolist)."
   ]
  },
  {
   "cell_type": "code",
   "execution_count": 4,
   "metadata": {},
   "outputs": [
    {
     "data": {
      "text/plain": [
       "[[0.49421226088877745, 0.40754615231944546],\n",
       " [0.7072802201261517, 0.5263467578295196]]"
      ]
     },
     "execution_count": 4,
     "metadata": {},
     "output_type": "execute_result"
    }
   ],
   "source": [
    "array = np.random.rand(2,2)\n",
    "array.tolist()"
   ]
  },
  {
   "cell_type": "markdown",
   "metadata": {},
   "source": [
    "You can also create random and zeros arrays in numpy using [```random.rand```](https://docs.scipy.org/doc/numpy/reference/generated/numpy.zeros.html?highlight=zero) and [```zeros```](https://docs.scipy.org/doc/numpy/reference/generated/numpy.zeros.html?highlight=zero)"
   ]
  },
  {
   "cell_type": "code",
   "execution_count": 5,
   "metadata": {},
   "outputs": [
    {
     "name": "stdout",
     "output_type": "stream",
     "text": [
      "[[0.89035996 0.87564818 0.62040802 0.33513066 0.85191367]\n",
      " [0.19721957 0.05233271 0.02032896 0.56263438 0.66635029]\n",
      " [0.98338959 0.45513785 0.12045783 0.07389747 0.10112044]]\n",
      "[[0. 0. 0. 0. 0.]\n",
      " [0. 0. 0. 0. 0.]\n",
      " [0. 0. 0. 0. 0.]]\n"
     ]
    }
   ],
   "source": [
    "# Creating a random 3x5 matrix\n",
    "print(np.random.rand(3,5))\n",
    "\n",
    "#Creating a zero 3x5 matrix\n",
    "print(np.zeros((3,5)))"
   ]
  },
  {
   "cell_type": "markdown",
   "metadata": {},
   "source": [
    "<a id=\"numpy_examining_arrays\"></a>\n",
    "## __Examining Arrays__\n",
    "\n",
    "Now that you have your array loaded, you can check its size (number of elements) using [```size```](https://docs.scipy.org/doc/numpy/reference/generated/numpy.ndarray.size.html?highlight=size#numpy.ndarray.size) and its shape (the dimensions — rows and columns) using [```shape```](https://docs.scipy.org/doc/numpy/reference/generated/numpy.ndarray.shape.html?highlight=shape#numpy.ndarray.shape). You can use [```dtype```](https://docs.scipy.org/doc/numpy/reference/generated/numpy.dtype.html?highlight=dtype#numpy.dtype) to get the data types of the array and if you need to convert the datatype you can use [```astype```](https://docs.scipy.org/doc/numpy/reference/generated/numpy.ndarray.astype.html?highlight=astype#numpy.ndarray.astype)."
   ]
  },
  {
   "cell_type": "markdown",
   "metadata": {},
   "source": [
    "<a id=\"numpy_indexing_slicing_assigning\"></a>\n",
    "## __Indexing, Slicing, & Assigning__\n",
    "\n",
    "Indexing and slicing NumPy arrays works very similarly to working with Python lists: ```array[5]``` will return the element in the 5th index, and ```array[2,5]``` will return the element in the second index and column 5. You can also select the first five elements, for example, by using a colon (:). ```array[0:5]``` will return the first five elements (index 0–4) and ```array[0:5,4]``` will return the first five elements in column 4. You can use ```array[:2]``` to get elements from the beginning until index 2 (not including index 2) or ```array[2:]``` to return from the 2nd index until the end of the array. \n",
    "\n",
    "Assigning values to a NumPy array is, again, very similar to doing so in Python lists: ```array[1]=4``` will assign the value 4 to the element on index 1; you can do it to multiple values: ```array[1,5]=10``` or use slicing when assigning values: ```array[:,10]=10``` will change the entire 11th column to the value 10."
   ]
  },
  {
   "cell_type": "markdown",
   "metadata": {},
   "source": [
    "<a id=\"numpy_combining_splitting\"></a>\n",
    "## __Combining and Splitting__\n",
    "\n",
    "You can use [```concatenate```](https://docs.scipy.org/doc/numpy/reference/generated/numpy.concatenate.html?highlight=concatenate#numpy.concatenate) to combine two NumPy arrays. ```np.concatenate((array1,array2),axis=0)``` this will add array 2 as rows to the end of array 1 while ```np.concatenate((array1,array2),axis=1)``` will add array 2 as columns to the end of array 1.\n",
    "\n",
    "On the other hand you can use [```split```](https://docs.scipy.org/doc/numpy/reference/generated/numpy.split.html?highlight=split#numpy.split) to separate two arrays. ```np.split(array,2)``` will spilt the array into two sub-arrays and np.hsplit(array,5) will split the array horizontally on the 5th index."
   ]
  }
 ],
 "metadata": {
  "kernelspec": {
   "display_name": "Python 3",
   "language": "python",
   "name": "python3"
  },
  "language_info": {
   "codemirror_mode": {
    "name": "ipython",
    "version": 3
   },
   "file_extension": ".py",
   "mimetype": "text/x-python",
   "name": "python",
   "nbconvert_exporter": "python",
   "pygments_lexer": "ipython3",
   "version": "3.7.4"
  }
 },
 "nbformat": 4,
 "nbformat_minor": 4
}
