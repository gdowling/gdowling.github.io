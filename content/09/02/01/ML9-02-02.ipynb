{
 "cells": [
  {
   "cell_type": "markdown",
   "metadata": {},
   "source": [
    "## Multiple Regression"
   ]
  },
  {
   "cell_type": "markdown",
   "metadata": {},
   "source": [
    "In most cases you will want to use multiple independent variables to predict a dependent variable. This is not a problem at all for you will just add more X variables to the equation.\n",
    "\n",
    "Y = m1X1 + m2X2 + m3X3 + b\n",
    "\n",
    "Something to note when adding more variables to your regression is multicollinearity. This exists whenever an independent variable is highly correlated with one or more of the other independent variables in a multiple regression equation. This is a problem because it undermines the statistical significance of an independent variable. A way to prevent this is by checking the Variance Inflation Factor for each variable. We won’t go into this, but here is a link that covers this in detail. (https://etav.github.io/python/vif_factor_python.html)\n"
   ]
  }
 ],
 "metadata": {
  "kernelspec": {
   "display_name": "Python 3",
   "language": "python",
   "name": "python3"
  },
  "language_info": {
   "codemirror_mode": {
    "name": "ipython",
    "version": 3
   },
   "file_extension": ".py",
   "mimetype": "text/x-python",
   "name": "python",
   "nbconvert_exporter": "python",
   "pygments_lexer": "ipython3",
   "version": "3.7.4"
  }
 },
 "nbformat": 4,
 "nbformat_minor": 2
}
