{
 "cells": [
  {
   "cell_type": "markdown",
   "metadata": {},
   "source": [
    "## Supervised Learning Models"
   ]
  },
  {
   "cell_type": "markdown",
   "metadata": {},
   "source": [
    "In this section we will cover the most common supervised learning methods, particularly, how they operate, when to use them, and how to use them. This will not cover the deep mathematic underworking of each of the algorithms, however there will be links included for each method if you desire to learn more about each algorithm. We will break down supervised learning into two sections, classification and regression. Classification is predicting a category an object belongs to, whereas regression is predicting a continuous value."
   ]
  },
  {
   "cell_type": "markdown",
   "metadata": {},
   "source": [
    "The supervised learning methods we will cover are:  "
   ]
  },
  {
   "cell_type": "markdown",
   "metadata": {},
   "source": [
    "__Regression__\n",
    "\n",
    "1. Generalized Linear Models\n",
    "    1. Simple/Multiple Linear Regression\n",
    "    2.\tPolynomial Regression\n",
    "    3.\tLasso Regression\n",
    "    4.\tRidge Regression\n",
    "    5.\tElastic Net Regression\n",
    "2. Support Vector Machine\n",
    "3. Regression Trees\n",
    "\n",
    "__Classification__\n",
    "\n",
    "1.\tLogistic Regression\n",
    "2.\tDecision Trees\n",
    "3.\tRandom Forests \n",
    "4.\tSupport Vector Classifiers\n",
    "5.\tNearest Neighbors \n",
    "6.\tK-Means\n",
    "7.\tNaive Bayes\n"
   ]
  },
  {
   "cell_type": "code",
   "execution_count": null,
   "metadata": {},
   "outputs": [],
   "source": []
  }
 ],
 "metadata": {
  "kernelspec": {
   "display_name": "Python 3",
   "language": "python",
   "name": "python3"
  },
  "language_info": {
   "codemirror_mode": {
    "name": "ipython",
    "version": 3
   },
   "file_extension": ".py",
   "mimetype": "text/x-python",
   "name": "python",
   "nbconvert_exporter": "python",
   "pygments_lexer": "ipython3",
   "version": "3.7.4"
  }
 },
 "nbformat": 4,
 "nbformat_minor": 2
}
